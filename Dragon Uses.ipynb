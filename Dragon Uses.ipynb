{
 "cells": [
  {
   "cell_type": "code",
   "execution_count": 2,
   "id": "19d12506",
   "metadata": {},
   "outputs": [],
   "source": [
    "from joblib import dump, load\n",
    "model = load('dragon.joblib')\n",
    "import numpy as np"
   ]
  },
  {
   "cell_type": "markdown",
   "id": "8d20d598",
   "metadata": {},
   "source": [
    "### provideing the features:"
   ]
  },
  {
   "cell_type": "code",
   "execution_count": 8,
   "id": "88a18934",
   "metadata": {},
   "outputs": [
    {
     "name": "stdout",
     "output_type": "stream",
     "text": [
      "[17.231]\n"
     ]
    }
   ],
   "source": [
    "features = np.array([[-0.43942006,  3.12628155, -1.12165014, -0.27288841, 6.42262747,\n",
    "       -0.23979304, -1.31238772,  2.61111401, -1.0016859 , -0.5778192 ,\n",
    "       -0.97491834,  0.41164221, 7.86091034]])\n",
    "model_predictio = model.predict(features)\n",
    "print(model_predictio)"
   ]
  },
  {
   "cell_type": "code",
   "execution_count": null,
   "id": "c8e9db73",
   "metadata": {},
   "outputs": [],
   "source": []
  }
 ],
 "metadata": {
  "kernelspec": {
   "display_name": "Python 3 (ipykernel)",
   "language": "python",
   "name": "python3"
  },
  "language_info": {
   "codemirror_mode": {
    "name": "ipython",
    "version": 3
   },
   "file_extension": ".py",
   "mimetype": "text/x-python",
   "name": "python",
   "nbconvert_exporter": "python",
   "pygments_lexer": "ipython3",
   "version": "3.9.12"
  }
 },
 "nbformat": 4,
 "nbformat_minor": 5
}
